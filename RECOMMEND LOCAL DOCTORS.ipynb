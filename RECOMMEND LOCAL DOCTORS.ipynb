{
 "cells": [
  {
   "cell_type": "code",
   "execution_count": 18,
   "id": "6ce018b7",
   "metadata": {},
   "outputs": [],
   "source": [
    "import pandas as pd\n",
    "import numpy as np\n",
    "from sklearn.feature_extraction.text import TfidfVectorizer\n",
    "from sklearn.metrics.pairwise import linear_kernel"
   ]
  },
  {
   "cell_type": "code",
   "execution_count": 4,
   "id": "0ba79a2c",
   "metadata": {},
   "outputs": [
    {
     "name": "stdout",
     "output_type": "stream",
     "text": [
      "<class 'pandas.core.frame.DataFrame'>\n",
      "RangeIndex: 143 entries, 0 to 142\n",
      "Data columns (total 4 columns):\n",
      " #   Column      Non-Null Count  Dtype \n",
      "---  ------      --------------  ----- \n",
      " 0   Unnamed: 0  143 non-null    int64 \n",
      " 1   reviews     143 non-null    object\n",
      " 2   labels      143 non-null    int64 \n",
      " 3   tag         143 non-null    object\n",
      "dtypes: int64(2), object(2)\n",
      "memory usage: 4.6+ KB\n"
     ]
    }
   ],
   "source": [
    "data = pd.read_csv(\"C:\\\\Users\\\\satya\\\\OneDrive\\\\Documents\\\\Fynn lab internship\\\\doctorReviews (2).csv\")\n",
    "data.info()"
   ]
  },
  {
   "cell_type": "code",
   "execution_count": 13,
   "id": "2605e5fc",
   "metadata": {
    "scrolled": true
   },
   "outputs": [
    {
     "name": "stdout",
     "output_type": "stream",
     "text": [
      "<class 'pandas.core.frame.DataFrame'>\n",
      "RangeIndex: 143 entries, 0 to 142\n",
      "Data columns (total 3 columns):\n",
      " #   Column   Non-Null Count  Dtype \n",
      "---  ------   --------------  ----- \n",
      " 0   reviews  143 non-null    object\n",
      " 1   labels   143 non-null    int64 \n",
      " 2   tag      143 non-null    object\n",
      "dtypes: int64(1), object(2)\n",
      "memory usage: 3.5+ KB\n"
     ]
    }
   ],
   "source": [
    "\n",
    "df1 = data.drop(data.columns[0],axis=1)\n",
    "df1.info()"
   ]
  },
  {
   "cell_type": "code",
   "execution_count": 24,
   "id": "f26bbaa7",
   "metadata": {},
   "outputs": [],
   "source": [
    "tfidf_vectorizer = TfidfVectorizer(stop_words='english')"
   ]
  },
  {
   "cell_type": "code",
   "execution_count": 25,
   "id": "a9c6b448",
   "metadata": {},
   "outputs": [],
   "source": [
    "tfidf_matrix = tfidf_vectorizer.fit_transform(df1['reviews'])"
   ]
  },
  {
   "cell_type": "code",
   "execution_count": 26,
   "id": "c85d3b70",
   "metadata": {},
   "outputs": [],
   "source": [
    "cosine_sim = linear_kernel(tfidf_matrix, tfidf_matrix)\n"
   ]
  },
  {
   "cell_type": "code",
   "execution_count": 33,
   "id": "6c0e68e2",
   "metadata": {},
   "outputs": [
    {
     "name": "stdout",
     "output_type": "stream",
     "text": [
      "Doctor42\n",
      "Doctor85\n",
      "Doctor44\n",
      "Doctor28\n",
      "Doctor64\n"
     ]
    }
   ],
   "source": [
    "\n",
    "def recommend_doctor_by_position(position, cosine_sim=cosine_sim):\n",
    "    \n",
    "    doctor_index = position - 1\n",
    "\n",
    "   \n",
    "    sim_scores = list(enumerate(cosine_sim[doctor_index]))\n",
    "\n",
    "   \n",
    "    sim_scores = sorted(sim_scores, key=lambda x: x[1], reverse=True)\n",
    "\n",
    " \n",
    "    top_similar_doctors = sim_scores[1:6]\n",
    "\n",
    "    similar_doctor_positions = [i[0] + 1 for i in top_similar_doctors]  # Convert back to 1-based position\n",
    "\n",
    "   \n",
    "    return similar_doctor_positions\n",
    "\n",
    "\n",
    "recommended_positions = recommend_doctor_by_position(position=1)\n",
    "for position in recommended_positions:\n",
    "    print(f\"Doctor{position}\")"
   ]
  },
  {
   "cell_type": "code",
   "execution_count": null,
   "id": "793abd3d",
   "metadata": {},
   "outputs": [],
   "source": []
  }
 ],
 "metadata": {
  "kernelspec": {
   "display_name": "Python 3 (ipykernel)",
   "language": "python",
   "name": "python3"
  },
  "language_info": {
   "codemirror_mode": {
    "name": "ipython",
    "version": 3
   },
   "file_extension": ".py",
   "mimetype": "text/x-python",
   "name": "python",
   "nbconvert_exporter": "python",
   "pygments_lexer": "ipython3",
   "version": "3.9.12"
  }
 },
 "nbformat": 4,
 "nbformat_minor": 5
}
