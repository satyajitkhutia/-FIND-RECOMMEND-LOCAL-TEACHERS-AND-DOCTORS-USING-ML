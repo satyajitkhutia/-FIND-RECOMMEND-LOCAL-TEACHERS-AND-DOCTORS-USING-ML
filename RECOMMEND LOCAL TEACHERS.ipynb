{
 "cells": [
  {
   "cell_type": "code",
   "execution_count": 1,
   "id": "d216158b",
   "metadata": {},
   "outputs": [],
   "source": [
    "import pandas as pd\n",
    "import numpy as np"
   ]
  },
  {
   "cell_type": "code",
   "execution_count": 6,
   "id": "dfd63a2c",
   "metadata": {},
   "outputs": [
    {
     "name": "stdout",
     "output_type": "stream",
     "text": [
      "<class 'pandas.core.frame.DataFrame'>\n",
      "RangeIndex: 185 entries, 0 to 184\n",
      "Data columns (total 12 columns):\n",
      " #   Column               Non-Null Count  Dtype  \n",
      "---  ------               --------------  -----  \n",
      " 0   teaching             185 non-null    int64  \n",
      " 1   teaching.1           185 non-null    object \n",
      " 2   coursecontent        184 non-null    float64\n",
      " 3   coursecontent.1      185 non-null    object \n",
      " 4   examination          184 non-null    float64\n",
      " 5   Examination          185 non-null    object \n",
      " 6   labwork              185 non-null    int64  \n",
      " 7   labwork.1            185 non-null    object \n",
      " 8   library_facilities   182 non-null    float64\n",
      " 9    library_facilities  185 non-null    object \n",
      " 10  extracurricular      185 non-null    int64  \n",
      " 11  extracurricular.1    185 non-null    object \n",
      "dtypes: float64(3), int64(3), object(6)\n",
      "memory usage: 17.5+ KB\n"
     ]
    }
   ],
   "source": [
    "data = pd.read_csv(\"C:\\\\Users\\\\satya\\\\OneDrive\\\\Documents\\\\Fynn lab internship\\\\teacherfinalDataset.csv\")\n",
    "data.info()"
   ]
  },
  {
   "cell_type": "code",
   "execution_count": 18,
   "id": "5e5ce786",
   "metadata": {},
   "outputs": [
    {
     "name": "stdout",
     "output_type": "stream",
     "text": [
      "<class 'pandas.core.frame.DataFrame'>\n",
      "RangeIndex: 185 entries, 0 to 184\n",
      "Data columns (total 8 columns):\n",
      " #   Column             Non-Null Count  Dtype  \n",
      "---  ------             --------------  -----  \n",
      " 0   teaching           185 non-null    int64  \n",
      " 1   teaching.1         185 non-null    object \n",
      " 2   coursecontent      184 non-null    float64\n",
      " 3   coursecontent.1    185 non-null    object \n",
      " 4   examination        184 non-null    float64\n",
      " 5   Examination        185 non-null    object \n",
      " 6   extracurricular    185 non-null    int64  \n",
      " 7   extracurricular.1  185 non-null    object \n",
      "dtypes: float64(2), int64(2), object(4)\n",
      "memory usage: 11.7+ KB\n"
     ]
    }
   ],
   "source": [
    "df = data.drop(['library_facilities','labwork','labwork.1',' library_facilities'],axis=1)\n",
    "df.info()"
   ]
  },
  {
   "cell_type": "code",
   "execution_count": 36,
   "id": "d477d77a",
   "metadata": {},
   "outputs": [
    {
     "name": "stdout",
     "output_type": "stream",
     "text": [
      "<class 'pandas.core.frame.DataFrame'>\n",
      "RangeIndex: 185 entries, 0 to 184\n",
      "Data columns (total 4 columns):\n",
      " #   Column           Non-Null Count  Dtype  \n",
      "---  ------           --------------  -----  \n",
      " 0   teaching         185 non-null    int64  \n",
      " 1   coursecontent    184 non-null    float64\n",
      " 2   examination      184 non-null    float64\n",
      " 3   extracurricular  185 non-null    int64  \n",
      "dtypes: float64(2), int64(2)\n",
      "memory usage: 5.9 KB\n"
     ]
    }
   ],
   "source": [
    "df1=df.drop(['teaching.1','coursecontent.1','Examination','extracurricular.1'],axis=1)\n",
    "df1.info()"
   ]
  },
  {
   "cell_type": "code",
   "execution_count": 28,
   "id": "6a694e44",
   "metadata": {},
   "outputs": [],
   "source": [
    "feature_weights = {\n",
    "    'teaching': 0.8,\n",
    "    'coursecontent': 0.6,\n",
    "    'examination': 0.4,\n",
    "    'extracurricular': 0.2\n",
    "}\n"
   ]
  },
  {
   "cell_type": "code",
   "execution_count": 33,
   "id": "f9ff5f6c",
   "metadata": {},
   "outputs": [],
   "source": [
    "teacher_profiles = {}\n",
    "for i in range(1, 186):\n",
    "    teacher_name = f'Teacher{i}'\n",
    "    teacher_profiles[teacher_name] = {\n",
    "        'teaching': 1 if i % 2 == 0 else -1,\n",
    "        'coursecontent': -1 if i % 3 == 0 else 1,\n",
    "        'examination': 1 if i % 4 == 0 else -1,\n",
    "        'extracurricular': 0 if i % 5 == 0 else 1\n",
    "    }\n",
    "    user_profile = {\n",
    "    'teaching': 1,  # User highly values teaching quality\n",
    "    'coursecontent': 0.5,  # Moderate importance\n",
    "    'examination': 0.3,  # Lower importance\n",
    "    'extracurricular': 0.1  # Lowest importance\n",
    "}"
   ]
  },
  {
   "cell_type": "code",
   "execution_count": 35,
   "id": "454e7a72",
   "metadata": {},
   "outputs": [
    {
     "name": "stdout",
     "output_type": "stream",
     "text": [
      "Top Recommended Teachers:\n",
      "Teacher: Teacher4\n",
      "Teacher: Teacher8\n",
      "Teacher: Teacher16\n",
      "Teacher: Teacher28\n",
      "Teacher: Teacher32\n"
     ]
    }
   ],
   "source": [
    "recommendation_scores = {}\n",
    "\n",
    "for teacher, features in teacher_profiles.items():\n",
    "    score = sum(features[feature] * user_profile[feature] * feature_weights[feature] for feature in features)\n",
    "    recommendation_scores[teacher] = score\n",
    "\n",
    "# Sort teachers by recommendation score (higher scores are better)\n",
    "sorted_teachers = sorted(recommendation_scores.items(), key=lambda x: x[1], reverse=True)\n",
    "\n",
    "# Get the top N recommended teachers\n",
    "top_n = 5 \n",
    "top_teachers = sorted_teachers[:top_n]\n",
    "\n",
    "# Print the recommended teachers and their scores\n",
    "print(\"Top Recommended Teachers:\")\n",
    "for teacher, score in top_teachers:\n",
    "    print(f\"Teacher: {teacher}\")"
   ]
  },
  {
   "cell_type": "code",
   "execution_count": null,
   "id": "d4f15391",
   "metadata": {},
   "outputs": [],
   "source": []
  }
 ],
 "metadata": {
  "kernelspec": {
   "display_name": "Python 3 (ipykernel)",
   "language": "python",
   "name": "python3"
  },
  "language_info": {
   "codemirror_mode": {
    "name": "ipython",
    "version": 3
   },
   "file_extension": ".py",
   "mimetype": "text/x-python",
   "name": "python",
   "nbconvert_exporter": "python",
   "pygments_lexer": "ipython3",
   "version": "3.9.12"
  }
 },
 "nbformat": 4,
 "nbformat_minor": 5
}
